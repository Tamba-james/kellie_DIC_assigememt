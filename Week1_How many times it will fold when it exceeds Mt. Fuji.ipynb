{
  "nbformat": 4,
  "nbformat_minor": 0,
  "metadata": {
    "colab": {
      "name": "Week1 _ How many diffractions should take to cross Mt. Fuji.ipynb",
      "provenance": [],
      "collapsed_sections": []
    },
    "kernelspec": {
      "name": "python3",
      "display_name": "Python 3"
    }
  },
  "cells": [
    {
      "cell_type": "markdown",
      "metadata": {
        "id": "u_evrVowyigl"
      },
      "source": [
        "[Problem 1] Minimum number of folds over Mt. Fuji"
      ]
    },
    {
      "cell_type": "code",
      "metadata": {
        "colab": {
          "base_uri": "https://localhost:8080/"
        },
        "id": "UbMzH4vKyMVv",
        "outputId": "b3b83e67-f0be-4fbf-d24d-f19f663facf4"
      },
      "source": [
        "from math import pow\r\n",
        "Thick0=0.00008\r\n",
        "thickness_folding=43\r\n",
        "\r\n",
        "for n in range(1,thickness_folding + 1):\r\n",
        "    thick=Thick0*pow(2,n)\r\n",
        "    if(thick>=3776):\r\n",
        "        break\r\n",
        "print(\"Number of times of folds if exceeds Mt. Fuji = {}\".format(n))"
      ],
      "execution_count": 3,
      "outputs": [
        {
          "output_type": "stream",
          "text": [
            "Number of times of folds if exceeds Mt. Fuji = 26\n"
          ],
          "name": "stdout"
        }
      ]
    },
    {
      "cell_type": "markdown",
      "metadata": {
        "id": "mW7UONTz5YWp"
      },
      "source": [
        "[Problem 2] Creating a function corresponding to an arbitrary thickness"
      ]
    },
    {
      "cell_type": "code",
      "metadata": {
        "id": "dROU868jyqNN",
        "colab": {
          "base_uri": "https://localhost:8080/"
        },
        "outputId": "e1f8c5e2-983c-4f4c-fbcc-321b6a0b6ec1"
      },
      "source": [
        "def diffraction(distance):\r\n",
        "    Thick0=0.00008\r\n",
        "    thickness_folding=43\r\n",
        "\r\n",
        "    for n in range(1,thickness_folding + 1):\r\n",
        "        thick=Thick0*pow(2,n)\r\n",
        "        if(thick>=distance):\r\n",
        "            break\r\n",
        "    return n\r\n",
        "\r\n",
        "non_sun_star=4.3*9500000000000\r\n",
        "diffraction(non_sun_star)"
      ],
      "execution_count": 6,
      "outputs": [
        {
          "output_type": "execute_result",
          "data": {
            "text/plain": [
              "43"
            ]
          },
          "metadata": {
            "tags": []
          },
          "execution_count": 6
        }
      ]
    },
    {
      "cell_type": "markdown",
      "metadata": {
        "id": "CoPvVQam6JQe"
      },
      "source": [
        "[Problem 3] Required paper length"
      ]
    },
    {
      "cell_type": "code",
      "metadata": {
        "id": "NZN03MiCyxA4",
        "colab": {
          "base_uri": "https://localhost:8080/"
        },
        "outputId": "c389e66f-55d8-43e4-9f02-d3238b3cf123"
      },
      "source": [
        "from math import pi\r\n",
        "def paper_length(thickness):\r\n",
        "    n=diffraction(thickness)\r\n",
        "    l=(1/6)*(pi*thickness)*(pow(2,n)+4)*(pow(2,n)-1)\r\n",
        "    return l\r\n",
        "\r\n",
        "print(\"The length of the paper to the Moon is {},\\n On Mt. Fuji is {}\\n and {} to the closest star.\".format(paper_length(Thick0*pow(2,43)),paper_length(Thick0*pow(2,26)),paper_length(Thick0*pow(2,43))))"
      ],
      "execution_count": 20,
      "outputs": [
        {
          "output_type": "stream",
          "text": [
            "The length of the paper to the Moon is 2.8507428908408834e+34,\n",
            " On Mt. Fuji is 1.2659842144726804e+19\n",
            " and 2.8507428908408834e+34 to the closest star.\n"
          ],
          "name": "stdout"
        }
      ]
    }
  ]
}